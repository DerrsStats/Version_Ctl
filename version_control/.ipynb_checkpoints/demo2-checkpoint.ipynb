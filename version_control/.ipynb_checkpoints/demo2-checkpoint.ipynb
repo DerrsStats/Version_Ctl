{
 "cells": [
  {
   "cell_type": "code",
   "execution_count": 1,
   "id": "e032f03b-1fca-49b4-b196-d92c9f8d494e",
   "metadata": {},
   "outputs": [
    {
     "name": "stdout",
     "output_type": "stream",
     "text": [
      "Testiing version control\n"
     ]
    }
   ],
   "source": [
    "print (\"Testiing version control\")"
   ]
  },
  {
   "cell_type": "code",
   "execution_count": null,
   "id": "b0949088-9488-45a2-8ed6-7158264ad0b3",
   "metadata": {},
   "outputs": [],
   "source": []
  }
 ],
 "metadata": {
  "kernelspec": {
   "display_name": "Python 3 (ipykernel)",
   "language": "python",
   "name": "python3"
  },
  "language_info": {
   "codemirror_mode": {
    "name": "ipython",
    "version": 3
   },
   "file_extension": ".py",
   "mimetype": "text/x-python",
   "name": "python",
   "nbconvert_exporter": "python",
   "pygments_lexer": "ipython3",
   "version": "3.10.16"
  }
 },
 "nbformat": 4,
 "nbformat_minor": 5
}
